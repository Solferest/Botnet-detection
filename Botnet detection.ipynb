{
 "cells": [
  {
   "cell_type": "code",
   "execution_count": 967,
   "id": "594a01d6",
   "metadata": {
    "cellId": "22cqsnc8hyl766tvce2nda"
   },
   "outputs": [
    {
     "name": "stdout",
     "output_type": "stream",
     "text": [
      "Waiting for an Apache Livy session to start...\n",
      "Apache Livy session has started.\n",
      "2\n",
      "2\n"
     ]
    }
   ],
   "source": [
    "#!spark --session gr0371-sk6\n",
    "conf=sc.getConf()\n",
    "cores=conf.get(\"spark.executor.cores\")\n",
    "print(cores)\n",
    "instances=conf.get(\"spark.executor.instances\")\n",
    "print(instances)"
   ]
  },
  {
   "cell_type": "code",
   "execution_count": 968,
   "id": "6bdf5b45",
   "metadata": {
    "cellId": "3jdwfcfjyy2euuadcb818"
   },
   "outputs": [
    {
     "name": "stdout",
     "output_type": "stream",
     "text": [
      "Starting session gr0371-sk6\n"
     ]
    }
   ],
   "source": [
    "%create_livy_session --cluster cluster_name --id gr0371-sk6 --conf spark.executor.cores=2 --conf spark.executor.instances=2 --conf spark.executor.pyspark.memory=8196"
   ]
  },
  {
   "cell_type": "code",
   "execution_count": 963,
   "id": "2e1414d4",
   "metadata": {
    "cellId": "0su345bgoqcfh4zlvw9yjg",
    "collapsed": true,
    "jupyter": {
     "outputs_hidden": true
    }
   },
   "outputs": [
    {
     "ename": "HTTPError",
     "evalue": "404: {\"msg\":\"Session 'None' not found.\"}",
     "output_type": "error",
     "traceback": [
      "\u001b[0;31m---------------------------------------------------------------------------\u001b[0m",
      "\u001b[0;31mHTTPError\u001b[0m                                 Traceback (most recent call last)",
      "\u001b[0;32m<ipython-input-61-de10c92a079f>\u001b[0m in \u001b[0;36m<module>\u001b[0;34m\u001b[0m\n\u001b[0;32m----> 1\u001b[0;31m \u001b[0mget_ipython\u001b[0m\u001b[0;34m(\u001b[0m\u001b[0;34m)\u001b[0m\u001b[0;34m.\u001b[0m\u001b[0mrun_line_magic\u001b[0m\u001b[0;34m(\u001b[0m\u001b[0;34m'delete_livy_session'\u001b[0m\u001b[0;34m,\u001b[0m \u001b[0;34m'--cluster bigdata-course-spark-cluster --id gr0371-sk6'\u001b[0m\u001b[0;34m)\u001b[0m\u001b[0;34m\u001b[0m\u001b[0;34m\u001b[0m\u001b[0m\n\u001b[0m\u001b[1;32m      2\u001b[0m \u001b[0;31m#\u001b[0m\u001b[0;34m\u001b[0m\u001b[0;34m\u001b[0m\u001b[0;34m\u001b[0m\u001b[0m\n",
      "\u001b[0;32m/kernel/lib/python3.8/site-packages/IPython/core/interactiveshell.py\u001b[0m in \u001b[0;36mrun_line_magic\u001b[0;34m(self, magic_name, line, _stack_depth)\u001b[0m\n\u001b[1;32m   2325\u001b[0m                 \u001b[0mkwargs\u001b[0m\u001b[0;34m[\u001b[0m\u001b[0;34m'local_ns'\u001b[0m\u001b[0;34m]\u001b[0m \u001b[0;34m=\u001b[0m \u001b[0mself\u001b[0m\u001b[0;34m.\u001b[0m\u001b[0mget_local_scope\u001b[0m\u001b[0;34m(\u001b[0m\u001b[0mstack_depth\u001b[0m\u001b[0;34m)\u001b[0m\u001b[0;34m\u001b[0m\u001b[0;34m\u001b[0m\u001b[0m\n\u001b[1;32m   2326\u001b[0m             \u001b[0;32mwith\u001b[0m \u001b[0mself\u001b[0m\u001b[0;34m.\u001b[0m\u001b[0mbuiltin_trap\u001b[0m\u001b[0;34m:\u001b[0m\u001b[0;34m\u001b[0m\u001b[0;34m\u001b[0m\u001b[0m\n\u001b[0;32m-> 2327\u001b[0;31m                 \u001b[0mresult\u001b[0m \u001b[0;34m=\u001b[0m \u001b[0mfn\u001b[0m\u001b[0;34m(\u001b[0m\u001b[0;34m*\u001b[0m\u001b[0margs\u001b[0m\u001b[0;34m,\u001b[0m \u001b[0;34m**\u001b[0m\u001b[0mkwargs\u001b[0m\u001b[0;34m)\u001b[0m\u001b[0;34m\u001b[0m\u001b[0;34m\u001b[0m\u001b[0m\n\u001b[0m\u001b[1;32m   2328\u001b[0m             \u001b[0;32mreturn\u001b[0m \u001b[0mresult\u001b[0m\u001b[0;34m\u001b[0m\u001b[0;34m\u001b[0m\u001b[0m\n\u001b[1;32m   2329\u001b[0m \u001b[0;34m\u001b[0m\u001b[0m\n",
      "\u001b[0;32m/kernel/lib/python3.8/site-packages/decorator.py\u001b[0m in \u001b[0;36mfun\u001b[0;34m(*args, **kw)\u001b[0m\n\u001b[1;32m    230\u001b[0m             \u001b[0;32mif\u001b[0m \u001b[0;32mnot\u001b[0m \u001b[0mkwsyntax\u001b[0m\u001b[0;34m:\u001b[0m\u001b[0;34m\u001b[0m\u001b[0;34m\u001b[0m\u001b[0m\n\u001b[1;32m    231\u001b[0m                 \u001b[0margs\u001b[0m\u001b[0;34m,\u001b[0m \u001b[0mkw\u001b[0m \u001b[0;34m=\u001b[0m \u001b[0mfix\u001b[0m\u001b[0;34m(\u001b[0m\u001b[0margs\u001b[0m\u001b[0;34m,\u001b[0m \u001b[0mkw\u001b[0m\u001b[0;34m,\u001b[0m \u001b[0msig\u001b[0m\u001b[0;34m)\u001b[0m\u001b[0;34m\u001b[0m\u001b[0;34m\u001b[0m\u001b[0m\n\u001b[0;32m--> 232\u001b[0;31m             \u001b[0;32mreturn\u001b[0m \u001b[0mcaller\u001b[0m\u001b[0;34m(\u001b[0m\u001b[0mfunc\u001b[0m\u001b[0;34m,\u001b[0m \u001b[0;34m*\u001b[0m\u001b[0;34m(\u001b[0m\u001b[0mextras\u001b[0m \u001b[0;34m+\u001b[0m \u001b[0margs\u001b[0m\u001b[0;34m)\u001b[0m\u001b[0;34m,\u001b[0m \u001b[0;34m**\u001b[0m\u001b[0mkw\u001b[0m\u001b[0;34m)\u001b[0m\u001b[0;34m\u001b[0m\u001b[0;34m\u001b[0m\u001b[0m\n\u001b[0m\u001b[1;32m    233\u001b[0m     \u001b[0mfun\u001b[0m\u001b[0;34m.\u001b[0m\u001b[0m__name__\u001b[0m \u001b[0;34m=\u001b[0m \u001b[0mfunc\u001b[0m\u001b[0;34m.\u001b[0m\u001b[0m__name__\u001b[0m\u001b[0;34m\u001b[0m\u001b[0;34m\u001b[0m\u001b[0m\n\u001b[1;32m    234\u001b[0m     \u001b[0mfun\u001b[0m\u001b[0;34m.\u001b[0m\u001b[0m__doc__\u001b[0m \u001b[0;34m=\u001b[0m \u001b[0mfunc\u001b[0m\u001b[0;34m.\u001b[0m\u001b[0m__doc__\u001b[0m\u001b[0;34m\u001b[0m\u001b[0;34m\u001b[0m\u001b[0m\n",
      "\u001b[0;32m/kernel/lib/python3.8/site-packages/IPython/core/magic.py\u001b[0m in \u001b[0;36m<lambda>\u001b[0;34m(f, *a, **k)\u001b[0m\n\u001b[1;32m    185\u001b[0m     \u001b[0;31m# but it's overkill for just that one bit of state.\u001b[0m\u001b[0;34m\u001b[0m\u001b[0;34m\u001b[0m\u001b[0;34m\u001b[0m\u001b[0m\n\u001b[1;32m    186\u001b[0m     \u001b[0;32mdef\u001b[0m \u001b[0mmagic_deco\u001b[0m\u001b[0;34m(\u001b[0m\u001b[0marg\u001b[0m\u001b[0;34m)\u001b[0m\u001b[0;34m:\u001b[0m\u001b[0;34m\u001b[0m\u001b[0;34m\u001b[0m\u001b[0m\n\u001b[0;32m--> 187\u001b[0;31m         \u001b[0mcall\u001b[0m \u001b[0;34m=\u001b[0m \u001b[0;32mlambda\u001b[0m \u001b[0mf\u001b[0m\u001b[0;34m,\u001b[0m \u001b[0;34m*\u001b[0m\u001b[0ma\u001b[0m\u001b[0;34m,\u001b[0m \u001b[0;34m**\u001b[0m\u001b[0mk\u001b[0m\u001b[0;34m:\u001b[0m \u001b[0mf\u001b[0m\u001b[0;34m(\u001b[0m\u001b[0;34m*\u001b[0m\u001b[0ma\u001b[0m\u001b[0;34m,\u001b[0m \u001b[0;34m**\u001b[0m\u001b[0mk\u001b[0m\u001b[0;34m)\u001b[0m\u001b[0;34m\u001b[0m\u001b[0;34m\u001b[0m\u001b[0m\n\u001b[0m\u001b[1;32m    188\u001b[0m \u001b[0;34m\u001b[0m\u001b[0m\n\u001b[1;32m    189\u001b[0m         \u001b[0;32mif\u001b[0m \u001b[0mcallable\u001b[0m\u001b[0;34m(\u001b[0m\u001b[0marg\u001b[0m\u001b[0;34m)\u001b[0m\u001b[0;34m:\u001b[0m\u001b[0;34m\u001b[0m\u001b[0;34m\u001b[0m\u001b[0m\n",
      "\u001b[0;32m/kernel/lib/python3.8/site-packages/ml_kernel/magics/livy_magics.py\u001b[0m in \u001b[0;36mdelete_livy_session\u001b[0;34m(self, line)\u001b[0m\n\u001b[1;32m     94\u001b[0m         \u001b[0murl\u001b[0m \u001b[0;34m=\u001b[0m \u001b[0mself\u001b[0m\u001b[0;34m.\u001b[0m\u001b[0m_executor\u001b[0m\u001b[0;34m.\u001b[0m\u001b[0mresolve_livy_host\u001b[0m\u001b[0;34m(\u001b[0m\u001b[0margs\u001b[0m\u001b[0;34m.\u001b[0m\u001b[0mcluster\u001b[0m\u001b[0;34m)\u001b[0m\u001b[0;34m\u001b[0m\u001b[0;34m\u001b[0m\u001b[0m\n\u001b[1;32m     95\u001b[0m \u001b[0;34m\u001b[0m\u001b[0m\n\u001b[0;32m---> 96\u001b[0;31m         \u001b[0mself\u001b[0m\u001b[0;34m.\u001b[0m\u001b[0m_executor\u001b[0m\u001b[0;34m.\u001b[0m\u001b[0mdestroy_session\u001b[0m\u001b[0;34m(\u001b[0m\u001b[0murl\u001b[0m\u001b[0;34m,\u001b[0m \u001b[0msession\u001b[0m\u001b[0;34m)\u001b[0m\u001b[0;34m\u001b[0m\u001b[0;34m\u001b[0m\u001b[0m\n\u001b[0m",
      "\u001b[0;32m/kernel/lib/python3.8/site-packages/ml_kernel/magics/livy_executor.py\u001b[0m in \u001b[0;36mdestroy_session\u001b[0;34m(self, url, name)\u001b[0m\n\u001b[1;32m    274\u001b[0m     \u001b[0;32mdef\u001b[0m \u001b[0mdestroy_session\u001b[0m\u001b[0;34m(\u001b[0m\u001b[0mself\u001b[0m\u001b[0;34m,\u001b[0m \u001b[0murl\u001b[0m\u001b[0;34m:\u001b[0m \u001b[0mstr\u001b[0m\u001b[0;34m,\u001b[0m \u001b[0mname\u001b[0m\u001b[0;34m:\u001b[0m \u001b[0mstr\u001b[0m\u001b[0;34m)\u001b[0m\u001b[0;34m:\u001b[0m\u001b[0;34m\u001b[0m\u001b[0;34m\u001b[0m\u001b[0m\n\u001b[1;32m    275\u001b[0m         \u001b[0mself\u001b[0m\u001b[0;34m.\u001b[0m\u001b[0m_wait_for_port_to_open\u001b[0m\u001b[0;34m(\u001b[0m\u001b[0murl\u001b[0m\u001b[0;34m)\u001b[0m\u001b[0;34m\u001b[0m\u001b[0;34m\u001b[0m\u001b[0m\n\u001b[0;32m--> 276\u001b[0;31m         self._handle_response(self._client.delete(\n\u001b[0m\u001b[1;32m    277\u001b[0m             \u001b[0mposixpath\u001b[0m\u001b[0;34m.\u001b[0m\u001b[0mjoin\u001b[0m\u001b[0;34m(\u001b[0m\u001b[0murl\u001b[0m\u001b[0;34m,\u001b[0m \u001b[0;34m'sessions'\u001b[0m\u001b[0;34m,\u001b[0m \u001b[0mstr\u001b[0m\u001b[0;34m(\u001b[0m\u001b[0mself\u001b[0m\u001b[0;34m.\u001b[0m\u001b[0msession_id\u001b[0m\u001b[0;34m(\u001b[0m\u001b[0murl\u001b[0m\u001b[0;34m,\u001b[0m \u001b[0mname\u001b[0m \u001b[0;32mor\u001b[0m \u001b[0mself\u001b[0m\u001b[0;34m.\u001b[0m\u001b[0m_default_name\u001b[0m\u001b[0;34m)\u001b[0m\u001b[0;34m)\u001b[0m\u001b[0;34m)\u001b[0m\u001b[0;34m,\u001b[0m\u001b[0;34m\u001b[0m\u001b[0;34m\u001b[0m\u001b[0m\n\u001b[1;32m    278\u001b[0m         ))\n",
      "\u001b[0;32m/kernel/lib/python3.8/site-packages/ml_kernel/magics/livy_executor.py\u001b[0m in \u001b[0;36m_handle_response\u001b[0;34m(response)\u001b[0m\n\u001b[1;32m    316\u001b[0m     \u001b[0;32mdef\u001b[0m \u001b[0m_handle_response\u001b[0m\u001b[0;34m(\u001b[0m\u001b[0mresponse\u001b[0m\u001b[0;34m:\u001b[0m \u001b[0mrequests\u001b[0m\u001b[0;34m.\u001b[0m\u001b[0mResponse\u001b[0m\u001b[0;34m)\u001b[0m \u001b[0;34m->\u001b[0m \u001b[0mrequests\u001b[0m\u001b[0;34m.\u001b[0m\u001b[0mResponse\u001b[0m\u001b[0;34m:\u001b[0m\u001b[0;34m\u001b[0m\u001b[0;34m\u001b[0m\u001b[0m\n\u001b[1;32m    317\u001b[0m         \u001b[0;32mif\u001b[0m \u001b[0;32mnot\u001b[0m \u001b[0mresponse\u001b[0m\u001b[0;34m.\u001b[0m\u001b[0mok\u001b[0m\u001b[0;34m:\u001b[0m\u001b[0;34m\u001b[0m\u001b[0;34m\u001b[0m\u001b[0m\n\u001b[0;32m--> 318\u001b[0;31m             \u001b[0;32mraise\u001b[0m \u001b[0mrequests\u001b[0m\u001b[0;34m.\u001b[0m\u001b[0mHTTPError\u001b[0m\u001b[0;34m(\u001b[0m\u001b[0;34mf\"{response.status_code}: {response.text}\"\u001b[0m\u001b[0;34m)\u001b[0m\u001b[0;34m\u001b[0m\u001b[0;34m\u001b[0m\u001b[0m\n\u001b[0m\u001b[1;32m    319\u001b[0m         \u001b[0;32mreturn\u001b[0m \u001b[0mresponse\u001b[0m\u001b[0;34m\u001b[0m\u001b[0;34m\u001b[0m\u001b[0m\n",
      "\u001b[0;31mHTTPError\u001b[0m: 404: {\"msg\":\"Session 'None' not found.\"}"
     ]
    }
   ],
   "source": [
    "%delete_livy_session --cluster cluster_name --id gr0371-sk6"
   ]
  },
  {
   "cell_type": "code",
   "execution_count": 805,
   "id": "2cf097b8",
   "metadata": {
    "cellId": "xod68v85o0o2g5x2d60v4f"
   },
   "outputs": [
    {
     "name": "stdout",
     "output_type": "stream",
     "text": [
      "\n"
     ]
    }
   ],
   "source": [
    "#!spark --session gr0371-sk6\n",
    "import pandas as pd\n",
    "from pyspark.sql.functions import col\n",
    "from pyspark.sql.functions import lit\n",
    "import matplotlib.pyplot as plt\n",
    "\n",
    "devices = {\n",
    "    1: 'Danmini_Doorbell', \n",
    "    2: 'Ecobee_Thermostat', \n",
    "    3: 'Ennio_Doorbell', \n",
    "    4: 'Philips_B120N10_Baby_Monitor',\n",
    "    5: 'Provision_PT_737E_Security_Camera', \n",
    "    6: 'Provision_PT_838_Security_Camera',\n",
    "    7: 'Samsung_SNH_1011_N_Webcam', \n",
    "    8: 'SimpleHome_XCS7_1002_WHT_Security_Camera',\n",
    "    9: 'SimpleHome_XCS7_1003_WHT_Security_Camera'\n",
    "    }\n",
    "gafgyt_file=['combo', 'junk', 'scan', 'tcp', 'udp']\n",
    "mirai_file=['ack', 'scan', 'syn', 'udp', 'udpplain']\n",
    "\n",
    "def remove_decimal_points_colname(dataset_df):\n",
    "    #создаём список\n",
    "    input_feature_list = []\n",
    "    #возвращаем имена всех столбцов в виде списка\n",
    "    columns=dataset_df.columns\n",
    "    for col in columns:\n",
    "        #убираем точки\n",
    "        new_name = col.replace('.','')\n",
    "        #добавляем строки\n",
    "        input_feature_list.append(new_name)\n",
    "        #возвращает новый объект DataFrame\n",
    "    dataset_df = dataset_df.toDF(*input_feature_list)\n",
    "    return dataset_df\n",
    " \n",
    "def load_data_class(PATH, class_name):\n",
    "    if class_name=='benign':\n",
    "        for i in range(9):\n",
    "            directory=PATH+str(i+1)+\".benign.csv\"\n",
    "            data = sc.textFile(directory)\n",
    "            #разделяем прочитанные строки по запятой и значения преобразуем к строковому типу\n",
    "            numbers_rdd = data.map(lambda s : list(map(str, s.split(\",\"))))\n",
    "            #выбираем названия столбцов из рдд\n",
    "            columns=numbers_rdd.take(115)\n",
    "            df = numbers_rdd.toDF(columns[0])\n",
    "            #убираем первую строку из датафрейма (дублируются названия столбцов)\n",
    "            df=df.filter(df.MI_dir_L5_weight!=\"MI_dir_L5_weight\")\n",
    "            #убираем \".\" из названий столбцов, спарк не распознает их\n",
    "            df=remove_decimal_points_colname(df)\n",
    "            #записываем метку класса\n",
    "            df=df.withColumn('label', lit('1'))\n",
    "            #переводим данные во float\n",
    "            df = df.select(*(col(c).cast(\"float\").alias(c) for c in df.columns))\n",
    "            if i==0:\n",
    "                dff=df\n",
    "            else:\n",
    "                dff=dff.union(df)\n",
    "        return dff\n",
    "    else:\n",
    "        for i in range(9):\n",
    "            if class_name=='mirai':\n",
    "                if i==2 or i==6:\n",
    "                        continue\n",
    "            for j in range(5):\n",
    "                if class_name=='gafgyt':\n",
    "                    directory=PATH+str(i+1)+'.gafgyt.'+gafgyt_file[j]+'.csv'\n",
    "                else:\n",
    "                    directory=PATH+str(i+1)+'.mirai.'+mirai_file[j]+'.csv'\n",
    "                data = sc.textFile(directory)\n",
    "                numbers_rdd = data.map(lambda s : list(map(str, s.split(\",\"))))\n",
    "                columns=numbers_rdd.take(115)\n",
    "                df = numbers_rdd.toDF(columns[0])\n",
    "                df=df.filter(df.MI_dir_L5_weight!=\"MI_dir_L5_weight\")\n",
    "                df=remove_decimal_points_colname(df)\n",
    "                if class_name=='gafgyt':\n",
    "                    df=df.withColumn('label', lit('2'))\n",
    "                else:\n",
    "                    df=df.withColumn('label', lit('3'))\n",
    "                df = df.select(*(col(c).cast(\"float\").alias(c) for c in df.columns))\n",
    "                if i==0 and j==0:\n",
    "                    dff=df\n",
    "                else:\n",
    "                    dff=dff.union(df)\n",
    "        return dff\n",
    "                    \n",
    "\n",
    "base_directory =\"/user/bigdata-course/N-BaIoT Dataset/\"\n",
    "benign_df = load_data_class(base_directory, 'benign')\n",
    "gafgyt_df = load_data_class(base_directory, 'gafgyt')\n",
    "mirai_df = load_data_class(base_directory, 'mirai')"
   ]
  },
  {
   "cell_type": "code",
   "execution_count": 806,
   "id": "6c832502",
   "metadata": {
    "cellId": "jc9nmtlcrhcloo6ddby"
   },
   "outputs": [
    {
     "name": "stdout",
     "output_type": "stream",
     "text": [
      "555932 2838272 3668402\n"
     ]
    }
   ],
   "source": [
    "#!spark --session gr0371-sk6\n",
    "import matplotlib.pyplot as plt\n",
    "benign_df_count=benign_df.count()\n",
    "gafgyt_df_count=gafgyt_df.count()\n",
    "mirai_df_count=mirai_df.count()\n",
    "print(benign_df_count, gafgyt_df_count, mirai_df_count)"
   ]
  },
  {
   "cell_type": "code",
   "execution_count": 508,
   "id": "61f46cea",
   "metadata": {
    "cellId": "5jbwjwvib6754knr8dk547",
    "jupyter": {
     "outputs_hidden": true,
     "source_hidden": true
    }
   },
   "outputs": [
    {
     "data": {
      "image/png": "[encoded data removed]",
      "text/plain": [
       "<Figure size 720x504 with 1 Axes>"
      ]
     },
     "metadata": {},
     "output_type": "display_data"
    }
   ],
   "source": [
    "from matplotlib import pyplot as plt\n",
    "import numpy as np\n",
    "\n",
    "vals = [555932, 2838272, 3668402]\n",
    "labels = ['benign', 'gafgyt', 'mirai']\n",
    "# Создаем диаграмму\n",
    "fig = plt.figure(figsize =(10, 7))\n",
    "plt.pie(vals, labels = labels)\n",
    " \n",
    "# Показываем диаграмму\n",
    "plt.show()"
   ]
  },
  {
   "cell_type": "code",
   "execution_count": 516,
   "id": "1cf1c37a",
   "metadata": {
    "cellId": "pi5r34c3p8urf6cefkc9",
    "jupyter": {
     "outputs_hidden": true,
     "source_hidden": true
    },
    "scrolled": false
   },
   "outputs": [
    {
     "name": "stdout",
     "output_type": "stream",
     "text": [
      "Danmini_Doorbell 49548 , 316650 , 652100\n",
      "Ecobee_Thermostat 13113 , 310630 , 512133\n",
      "Ennio_Doorbell 39100 , 316400 , 0\n",
      "Philips_B120N10_Baby_Monitor 175240 , 312723 , 610714\n",
      "Provision_PT_737E_Security_Camera 62154 , 330096 , 436010\n",
      "Provision_PT_838_Security_Camera 98514 , 309040 , 429337\n",
      "Samsung_SNH_1011_N_Webcam 52150 , 323072 , 0\n",
      "SimpleHome_XCS7_1002_WHT_Security_Camera 46585 , 303223 , 513248\n",
      "SimpleHome_XCS7_1003_WHT_Security_Camera 19528 , 316438 , 514860\n"
     ]
    }
   ],
   "source": [
    "#!spark --session gr0371-sk6\n",
    "import matplotlib.pyplot as plt\n",
    "def class_device(benign_df, gafgyt_df, mirai_df, device_name):\n",
    "    benign_df_count=benign_df.filter(benign_df.device==device_name).count()\n",
    "    gafgyt_df_count=gafgyt_df.filter(gafgyt_df.device==device_name).count()\n",
    "    mirai_df_count=mirai_df.filter(mirai_df.device==device_name).count()\n",
    "    print(device_name, benign_df_count,',', gafgyt_df_count,',', mirai_df_count)\n",
    "    return\n",
    "class_device(benign_df, gafgyt_df, mirai_df, 'Danmini_Doorbell')\n",
    "class_device(benign_df, gafgyt_df, mirai_df, 'Ecobee_Thermostat')\n",
    "class_device(benign_df, gafgyt_df, mirai_df, 'Ennio_Doorbell')\n",
    "class_device(benign_df, gafgyt_df, mirai_df, 'Philips_B120N10_Baby_Monitor')\n",
    "class_device(benign_df, gafgyt_df, mirai_df, 'Provision_PT_737E_Security_Camera')\n",
    "class_device(benign_df, gafgyt_df, mirai_df, 'Provision_PT_838_Security_Camera')\n",
    "class_device(benign_df, gafgyt_df, mirai_df, 'Samsung_SNH_1011_N_Webcam')\n",
    "class_device(benign_df, gafgyt_df, mirai_df, 'SimpleHome_XCS7_1002_WHT_Security_Camera')\n",
    "class_device(benign_df, gafgyt_df, mirai_df, 'SimpleHome_XCS7_1003_WHT_Security_Camera')"
   ]
  },
  {
   "cell_type": "code",
   "execution_count": 807,
   "id": "14bac943",
   "metadata": {
    "cellId": "s0gb9mhxpzs5azywqcdgcb"
   },
   "outputs": [
    {
     "name": "stdout",
     "output_type": "stream",
     "text": [
      "555932 567775 613227\n"
     ]
    }
   ],
   "source": [
    "#!spark --session gr0371-sk6\n",
    "def under_sample(major_df,major_df_count,major_df2,major_df_count2,minor_df,minor_df_count):\n",
    "    ratio=int(major_df_count/minor_df_count)\n",
    "    sampled_maj_df = major_df.sample(False, 1/ratio)\n",
    "    ratio=int(major_df_count2/minor_df_count)\n",
    "    sampled_maj_df2 = major_df2.sample(False, 1/ratio)\n",
    "    return sampled_maj_df,sampled_maj_df2, minor_df\n",
    "\n",
    "def remove_class_imbalance(benign_df, benign_count, gafgyt_df, gafgyt_count, mirai_df, mirai_count):\n",
    "    if gafgyt_count < benign_count and   gafgyt_count < mirai_count:\n",
    "        benign_df, mirai_df, gafgyt_df = under_sample(benign_df, benign_count, mirai_df, mirai_count, gafgyt_df, gafgyt_count)\n",
    "        return benign_df, mirai_df, gafgyt_df\n",
    "    elif benign_count< gafgyt_count and  benign_count < mirai_count:\n",
    "        gafgyt_df, mirai_df, benign_df=under_sample(gafgyt_df, gafgyt_count, mirai_df, mirai_count,benign_df, benign_count)\n",
    "        return benign_df, mirai_df, gafgyt_df\n",
    "    elif mirai_count < benign_count and mirai_count < gafgyt_count:\n",
    "        gafgyt_df, benign_df, mirai_df=under_sample(gafgyt_df, gafgyt_count, benign_df, benign_count, mirai_df,mirai_count)\n",
    "        return benign_df, mirai_df, gafgyt_df\n",
    "    \n",
    "benign_df, mirai_df, gafgyt_df=remove_class_imbalance(benign_df, benign_df_count, gafgyt_df, gafgyt_df_count, mirai_df, mirai_df_count)\n",
    "benign_df_count=benign_df.count()\n",
    "gafgyt_df_count=gafgyt_df.count()\n",
    "mirai_df_count=mirai_df.count()\n",
    "print(benign_df_count, gafgyt_df_count, mirai_df_count)"
   ]
  },
  {
   "cell_type": "code",
   "execution_count": 545,
   "id": "7150529f",
   "metadata": {
    "cellId": "je27ao87g8f8kz142vijcf",
    "jupyter": {
     "outputs_hidden": true,
     "source_hidden": true
    }
   },
   "outputs": [
    {
     "data": {
      "image/png": "[encoded data removed]",
      "text/plain": [
       "<Figure size 720x504 with 1 Axes>"
      ]
     },
     "metadata": {},
     "output_type": "display_data"
    }
   ],
   "source": [
    "from matplotlib import pyplot as plt\n",
    "import numpy as np\n",
    "\n",
    "vals = [555932, 567290, 611631]\n",
    "labels = ['benign', 'gafgyt', 'mirai']\n",
    "# Creating plot\n",
    "fig = plt.figure(figsize =(10, 7))\n",
    "plt.pie(vals, labels = labels)\n",
    " \n",
    "# show plot\n",
    "plt.show()"
   ]
  },
  {
   "cell_type": "code",
   "execution_count": 808,
   "id": "b8197f26",
   "metadata": {
    "cellId": "31z201k7nvy7mmbb5meu2i"
   },
   "outputs": [
    {
     "name": "stdout",
     "output_type": "stream",
     "text": [
      "\n"
     ]
    }
   ],
   "source": [
    "#!spark --session gr0371-sk6\n",
    "from pyspark.sql.functions import rand\n",
    "def random_shuffle(df):\n",
    "    #перетасовка строк\n",
    "    return df.orderBy(rand())\n",
    "\n",
    "df=benign_df.union(mirai_df)\n",
    "df=df.union(gafgyt_df)\n",
    "df=random_shuffle(df)"
   ]
  },
  {
   "cell_type": "code",
   "execution_count": 586,
   "id": "57563dd9",
   "metadata": {
    "cellId": "qvukwezg5fbq5b6rz9nh1",
    "jupyter": {
     "outputs_hidden": true,
     "source_hidden": true
    }
   },
   "outputs": [
    {
     "name": "stdout",
     "output_type": "stream",
     "text": [
      "\n"
     ]
    }
   ],
   "source": [
    "#!spark --session gr0371-sk6\n",
    "from pyspark.ml.feature import VectorAssembler\n",
    "from pyspark.ml.classification import RandomForestClassifier\n",
    "\n",
    "\n",
    "cols = df.columns\n",
    "cols.remove('label')\n",
    "va = VectorAssembler(\n",
    "    inputCols=cols,\n",
    "    outputCol=\"features\"\n",
    ").transform(df)\n",
    "train, test = va.randomSplit([0.7, 0.3])\n",
    "\n",
    "rf = RandomForestClassifier(\n",
    "    labelCol=\"label\", \n",
    "    featuresCol=\"features\",\n",
    "    maxDepth=2,\n",
    "    numTrees=3)\n",
    "model = rf.fit(train)\n",
    "predictions=model.transform(test)"
   ]
  },
  {
   "cell_type": "code",
   "execution_count": 573,
   "id": "589b6b88",
   "metadata": {
    "cellId": "kt7m6glbgoh3x9mcdxgpqa",
    "jupyter": {
     "outputs_hidden": true,
     "source_hidden": true
    }
   },
   "outputs": [
    {
     "name": "stdout",
     "output_type": "stream",
     "text": [
      "Accuracy is: 0.946133871898442\n"
     ]
    }
   ],
   "source": [
    "#!spark --session gr0371-sk6\n",
    "from pyspark.ml.evaluation import MulticlassClassificationEvaluator\n",
    "evaluator = MulticlassClassificationEvaluator(labelCol=\"label\", predictionCol=\"prediction\")\n",
    "accuracy = evaluator.evaluate(predictions, {evaluator.metricName: \"accuracy\"})\n",
    "print(('Accuracy is: %s') % accuracy)"
   ]
  },
  {
   "cell_type": "code",
   "execution_count": 589,
   "id": "58ec1594",
   "metadata": {
    "cellId": "8qtxdtm950kn03cxafrg9c",
    "jupyter": {
     "outputs_hidden": true,
     "source_hidden": true
    }
   },
   "outputs": [
    {
     "name": "stdout",
     "output_type": "stream",
     "text": [
      "Precision is: 0.9482236347508961\n"
     ]
    }
   ],
   "source": [
    "#!spark --session gr0371-sk6\n",
    "from pyspark.ml.evaluation import MulticlassClassificationEvaluator\n",
    "evaluator = MulticlassClassificationEvaluator(labelCol=\"label\", predictionCol=\"prediction\")\n",
    "precision = evaluator.evaluate(predictions, {evaluator.metricName: \"weightedPrecision\"})\n",
    "print(('Precision is: %s') % precision)"
   ]
  },
  {
   "cell_type": "code",
   "execution_count": 591,
   "id": "b88d7230",
   "metadata": {
    "cellId": "rd6qusibermw2z7gi3sohk",
    "jupyter": {
     "outputs_hidden": true,
     "source_hidden": true
    }
   },
   "outputs": [
    {
     "name": "stdout",
     "output_type": "stream",
     "text": [
      "Recall is: 0.9473050210852922\n"
     ]
    }
   ],
   "source": [
    "#!spark --session gr0371-sk6\n",
    "recall = evaluator.evaluate(predictions, {evaluator.metricName: \"weightedRecall\"})\n",
    "print(('Recall is: %s') % recall)"
   ]
  },
  {
   "cell_type": "code",
   "execution_count": 598,
   "id": "40db6945",
   "metadata": {
    "cellId": "9du7kdw6qskd5pb6u0fwvj",
    "jupyter": {
     "outputs_hidden": true
    }
   },
   "outputs": [
    {
     "name": "stdout",
     "output_type": "stream",
     "text": [
      "\n"
     ]
    }
   ],
   "source": [
    "#!spark --session gr0371-sk6\n",
    "from pyspark.ml.feature import VectorAssembler\n",
    "from pyspark.ml.classification import RandomForestClassifier\n",
    "\n",
    "\n",
    "cols = df.columns\n",
    "cols.remove('label')\n",
    "va = VectorAssembler(\n",
    "    inputCols=cols,\n",
    "    outputCol=\"features\"\n",
    ").transform(df)\n",
    "train, test = va.randomSplit([0.7, 0.3])\n",
    "\n",
    "rf = RandomForestClassifier(\n",
    "    labelCol=\"label\", \n",
    "    featuresCol=\"features\",\n",
    "    maxDepth=2,\n",
    "    numTrees=5)\n",
    "model = rf.fit(train)\n",
    "predictions=model.transform(test)"
   ]
  },
  {
   "cell_type": "code",
   "execution_count": 599,
   "id": "d25388ea",
   "metadata": {
    "cellId": "cjfvsnx3lja6czaumx59l",
    "collapsed": true,
    "jupyter": {
     "outputs_hidden": true
    }
   },
   "outputs": [
    {
     "name": "stdout",
     "output_type": "stream",
     "text": [
      "Accuracy is: 0.9683909537901819\n"
     ]
    }
   ],
   "source": [
    "#!spark --session gr0371-sk6\n",
    "from pyspark.ml.evaluation import MulticlassClassificationEvaluator\n",
    "evaluator = MulticlassClassificationEvaluator(labelCol=\"label\", predictionCol=\"prediction\")\n",
    "accuracy = evaluator.evaluate(predictions, {evaluator.metricName: \"accuracy\"})\n",
    "print(('Accuracy is: %s') % accuracy)"
   ]
  },
  {
   "cell_type": "code",
   "execution_count": 600,
   "id": "f53c8e36",
   "metadata": {
    "cellId": "sqyytx2np9cv3bc9k42b7",
    "collapsed": true,
    "jupyter": {
     "outputs_hidden": true
    }
   },
   "outputs": [
    {
     "name": "stdout",
     "output_type": "stream",
     "text": [
      "Precision is: 0.9703170152852272\n"
     ]
    }
   ],
   "source": [
    "#!spark --session gr0371-sk6\n",
    "from pyspark.ml.evaluation import MulticlassClassificationEvaluator\n",
    "evaluator = MulticlassClassificationEvaluator(labelCol=\"label\", predictionCol=\"prediction\")\n",
    "precision = evaluator.evaluate(predictions, {evaluator.metricName: \"weightedPrecision\"})\n",
    "print(('Precision is: %s') % precision)"
   ]
  },
  {
   "cell_type": "code",
   "execution_count": 601,
   "id": "4bfa1812",
   "metadata": {
    "cellId": "mdqtqqkwm8tmqvs0mif85d",
    "collapsed": true,
    "jupyter": {
     "outputs_hidden": true
    }
   },
   "outputs": [
    {
     "name": "stdout",
     "output_type": "stream",
     "text": [
      "Recall is: 0.9683217729656572\n"
     ]
    }
   ],
   "source": [
    "#!spark --session gr0371-sk6#!spark --session gr0371-sk6\n",
    "\n",
    "recall = evaluator.evaluate(predictions, {evaluator.metricName: \"weightedRecall\"})\n",
    "print(('Recall is: %s') % recall)"
   ]
  },
  {
   "cell_type": "code",
   "execution_count": 602,
   "id": "45724767",
   "metadata": {
    "cellId": "zz3gu8ltd2pdxmfjtgudnt",
    "collapsed": true,
    "jupyter": {
     "outputs_hidden": true
    }
   },
   "outputs": [
    {
     "name": "stdout",
     "output_type": "stream",
     "text": [
      "\n"
     ]
    }
   ],
   "source": [
    "#!spark --session gr0371-sk6\n",
    "from pyspark.ml.feature import VectorAssembler\n",
    "from pyspark.ml.classification import RandomForestClassifier\n",
    "\n",
    "\n",
    "cols = df.columns\n",
    "cols.remove('label')\n",
    "va = VectorAssembler(\n",
    "    inputCols=cols,\n",
    "    outputCol=\"features\"\n",
    ").transform(df)\n",
    "train, test = va.randomSplit([0.7, 0.3])\n",
    "\n",
    "rf = RandomForestClassifier(\n",
    "    labelCol=\"label\", \n",
    "    featuresCol=\"features\",\n",
    "    maxDepth=2,\n",
    "    numTrees=10)\n",
    "model = rf.fit(train)\n",
    "predictions=model.transform(test)"
   ]
  },
  {
   "cell_type": "code",
   "execution_count": 603,
   "id": "e8497705",
   "metadata": {
    "cellId": "vdg8i17g0t045whe193hnc"
   },
   "outputs": [
    {
     "name": "stdout",
     "output_type": "stream",
     "text": [
      "Accuracy is: 0.9596399367986437\n"
     ]
    }
   ],
   "source": [
    "#!spark --session gr0371-sk6\n",
    "from pyspark.ml.evaluation import MulticlassClassificationEvaluator\n",
    "evaluator = MulticlassClassificationEvaluator(labelCol=\"label\", predictionCol=\"prediction\")\n",
    "accuracy = evaluator.evaluate(predictions, {evaluator.metricName: \"accuracy\"})\n",
    "print(('Accuracy is: %s') % accuracy)"
   ]
  },
  {
   "cell_type": "code",
   "execution_count": 739,
   "id": "74e0d625",
   "metadata": {
    "cellId": "xiajeuh7h9lqjt0w5lntan"
   },
   "outputs": [
    {
     "name": "stdout",
     "output_type": "stream",
     "text": [
      "train time:  991.8551964759827\n",
      "test time:  0.23082685470581055\n"
     ]
    }
   ],
   "source": [
    "#!spark --session gr0371-sk6\n",
    "from pyspark.ml.feature import VectorAssembler\n",
    "from pyspark.ml.classification import RandomForestClassifier\n",
    "import time\n",
    "\n",
    "cols = df.columns\n",
    "cols.remove('label')\n",
    "va = VectorAssembler(\n",
    "    inputCols=cols,\n",
    "    outputCol=\"features\"\n",
    ").transform(df)\n",
    "train, test = va.randomSplit([0.7, 0.3])\n",
    "\n",
    "rf = RandomForestClassifier(\n",
    "    labelCol=\"label\", \n",
    "    featuresCol=\"features\",\n",
    "    maxDepth=4,\n",
    "    numTrees=5)\n",
    "start_time = time.time()\n",
    "model = rf.fit(train)\n",
    "exec_time = time.time() - start_time\n",
    "start_time = time.time()\n",
    "print ('train time: ', exec_time)\n",
    "predictions=model.transform(test)\n",
    "exec_time = time.time() - start_time\n",
    "print ('test time: ', exec_time)\n",
    "#4 ядра, 2 исполнителя фул сет"
   ]
  },
  {
   "cell_type": "code",
   "execution_count": 605,
   "id": "dba6c106",
   "metadata": {
    "cellId": "g5fe4u4x2bm4agtr9j7l47"
   },
   "outputs": [
    {
     "name": "stdout",
     "output_type": "stream",
     "text": [
      "Accuracy is: 0.9914646879534444\n"
     ]
    }
   ],
   "source": [
    "#!spark --session gr0371-sk6\n",
    "from pyspark.ml.evaluation import MulticlassClassificationEvaluator\n",
    "evaluator = MulticlassClassificationEvaluator(labelCol=\"label\", predictionCol=\"prediction\")\n",
    "accuracy = evaluator.evaluate(predictions, {evaluator.metricName: \"accuracy\"})\n",
    "print(('Accuracy is: %s') % accuracy)"
   ]
  },
  {
   "cell_type": "code",
   "execution_count": 606,
   "id": "d3b40ae2",
   "metadata": {
    "cellId": "ok65o7td3fgigbjjpxsv8"
   },
   "outputs": [
    {
     "name": "stdout",
     "output_type": "stream",
     "text": [
      "Precision is: 0.9913015549889204\n"
     ]
    }
   ],
   "source": [
    "#!spark --session gr0371-sk6\n",
    "from pyspark.ml.evaluation import MulticlassClassificationEvaluator\n",
    "evaluator = MulticlassClassificationEvaluator(labelCol=\"label\", predictionCol=\"prediction\")\n",
    "precision = evaluator.evaluate(predictions, {evaluator.metricName: \"weightedPrecision\"})\n",
    "print(('Precision is: %s') % precision)"
   ]
  },
  {
   "cell_type": "code",
   "execution_count": 607,
   "id": "932347a9",
   "metadata": {
    "cellId": "t0wcetw5fcjfm379dsbt"
   },
   "outputs": [
    {
     "name": "stdout",
     "output_type": "stream",
     "text": [
      "Recall is: 0.9910830641554916\n"
     ]
    }
   ],
   "source": [
    "#!spark --session gr0371-sk6\n",
    "recall = evaluator.evaluate(predictions, {evaluator.metricName: \"weightedRecall\"})\n",
    "print(('Recall is: %s') % recall)"
   ]
  },
  {
   "cell_type": "code",
   "execution_count": 744,
   "id": "fcc6c409",
   "metadata": {
    "cellId": "y2zi3k14wbs01qwzlpbytva"
   },
   "outputs": [
    {
     "name": "stdout",
     "output_type": "stream",
     "text": [
      "\n"
     ]
    }
   ],
   "source": [
    "#!spark --session gr0371-sk6\n",
    "df50 = df.sample(False, 1/2)"
   ]
  },
  {
   "cell_type": "code",
   "execution_count": 746,
   "id": "7b3990cb",
   "metadata": {
    "cellId": "nft7yj4bpfpeanqcfwz8"
   },
   "outputs": [
    {
     "name": "stdout",
     "output_type": "stream",
     "text": [
      "train time:  1007.9103033542633\n",
      "test time:  0.22549867630004883\n"
     ]
    }
   ],
   "source": [
    "#!spark --session gr0371-sk6\n",
    "from pyspark.ml.feature import VectorAssembler\n",
    "from pyspark.ml.classification import RandomForestClassifier\n",
    "\n",
    "\n",
    "cols = df50.columns\n",
    "cols.remove('label')\n",
    "va = VectorAssembler(\n",
    "    inputCols=cols,\n",
    "    outputCol=\"features\"\n",
    ").transform(df50)\n",
    "train, test = va.randomSplit([0.7, 0.3])\n",
    "\n",
    "rf = RandomForestClassifier(\n",
    "    labelCol=\"label\", \n",
    "    featuresCol=\"features\",\n",
    "    maxDepth=4,\n",
    "    numTrees=5)\n",
    "start_time = time.time()\n",
    "model = rf.fit(train)\n",
    "exec_time = time.time() - start_time\n",
    "start_time = time.time()\n",
    "print ('train time: ', exec_time)\n",
    "predictions=model.transform(test)\n",
    "exec_time = time.time() - start_time\n",
    "print ('test time: ', exec_time)\n",
    "#4 ядра, 2 исполнителя 50% сета"
   ]
  },
  {
   "cell_type": "code",
   "execution_count": 747,
   "id": "d1ce9623",
   "metadata": {
    "cellId": "d92byy4jirujgwq0ac79j"
   },
   "outputs": [
    {
     "name": "stdout",
     "output_type": "stream",
     "text": [
      "Accuracy is: 0.9796761375839956\n",
      "Precision is: 0.9806835230997712\n",
      "Recall is: 0.9798257961331498\n"
     ]
    }
   ],
   "source": [
    "#!spark --session gr0371-sk6\n",
    "from pyspark.ml.evaluation import MulticlassClassificationEvaluator\n",
    "evaluator = MulticlassClassificationEvaluator(labelCol=\"label\", predictionCol=\"prediction\")\n",
    "accuracy = evaluator.evaluate(predictions, {evaluator.metricName: \"accuracy\"})\n",
    "print(('Accuracy is: %s') % accuracy)\n",
    "precision = evaluator.evaluate(predictions, {evaluator.metricName: \"weightedPrecision\"})\n",
    "print(('Precision is: %s') % precision)\n",
    "recall = evaluator.evaluate(predictions, {evaluator.metricName: \"weightedRecall\"})\n",
    "print(('Recall is: %s') % recall)"
   ]
  },
  {
   "cell_type": "code",
   "execution_count": 750,
   "id": "01b65090",
   "metadata": {
    "cellId": "7qoctvrfjd2vae83tfisl"
   },
   "outputs": [
    {
     "name": "stdout",
     "output_type": "stream",
     "text": [
      "2\n",
      "2\n"
     ]
    }
   ],
   "source": [
    "#!spark --session gr0371-sk6\n",
    "conf=sc.getConf()\n",
    "cores=conf.get(\"spark.executor.cores\")\n",
    "conf.set('spark.executor.cores', 2)\n",
    "cores=conf.get(\"spark.executor.cores\")\n",
    "print(cores)\n",
    "instances=conf.get(\"spark.executor.instances\")\n",
    "print(instances)"
   ]
  },
  {
   "cell_type": "code",
   "execution_count": 751,
   "id": "5aa140f0",
   "metadata": {
    "cellId": "gui3zx7r49or2dn54u0am"
   },
   "outputs": [
    {
     "name": "stdout",
     "output_type": "stream",
     "text": [
      "train time:  856.9662630558014\n",
      "test time:  0.21073079109191895\n"
     ]
    }
   ],
   "source": [
    "#!spark --session gr0371-sk6\n",
    "from pyspark.ml.feature import VectorAssembler\n",
    "from pyspark.ml.classification import RandomForestClassifier\n",
    "import time\n",
    "\n",
    "cols = df.columns\n",
    "cols.remove('label')\n",
    "va = VectorAssembler(\n",
    "    inputCols=cols,\n",
    "    outputCol=\"features\"\n",
    ").transform(df)\n",
    "train, test = va.randomSplit([0.7, 0.3])\n",
    "\n",
    "rf = RandomForestClassifier(\n",
    "    labelCol=\"label\", \n",
    "    featuresCol=\"features\",\n",
    "    maxDepth=4,\n",
    "    numTrees=5)\n",
    "start_time = time.time()\n",
    "model = rf.fit(train)\n",
    "exec_time = time.time() - start_time\n",
    "start_time = time.time()\n",
    "print ('train time: ', exec_time)\n",
    "predictions=model.transform(test)\n",
    "exec_time = time.time() - start_time\n",
    "print ('test time: ', exec_time)\n",
    "#2 ядра, 2 исполнителя фул сет"
   ]
  },
  {
   "cell_type": "code",
   "execution_count": 752,
   "id": "f136f0d8",
   "metadata": {
    "cellId": "uxh94cmmw8bu77982jn8cm"
   },
   "outputs": [
    {
     "name": "stdout",
     "output_type": "stream",
     "text": [
      "1\n",
      "2\n"
     ]
    }
   ],
   "source": [
    "#!spark --session gr0371-sk6\n",
    "conf=sc.getConf()\n",
    "conf.set('spark.executor.cores', 1)\n",
    "cores=conf.get(\"spark.executor.cores\")\n",
    "print(cores)\n",
    "instances=conf.get(\"spark.executor.instances\")\n",
    "print(instances)"
   ]
  },
  {
   "cell_type": "code",
   "execution_count": 753,
   "id": "e4fef98b",
   "metadata": {
    "cellId": "pdqhtur62wjzzcptiboc"
   },
   "outputs": [
    {
     "name": "stdout",
     "output_type": "stream",
     "text": [
      "train time:  835.3313972949982\n",
      "test time:  0.20510482788085938\n"
     ]
    }
   ],
   "source": [
    "#!spark --session gr0371-sk6\n",
    "from pyspark.ml.feature import VectorAssembler\n",
    "from pyspark.ml.classification import RandomForestClassifier\n",
    "import time\n",
    "\n",
    "cols = df.columns\n",
    "cols.remove('label')\n",
    "va = VectorAssembler(\n",
    "    inputCols=cols,\n",
    "    outputCol=\"features\"\n",
    ").transform(df)\n",
    "train, test = va.randomSplit([0.7, 0.3])\n",
    "\n",
    "rf = RandomForestClassifier(\n",
    "    labelCol=\"label\", \n",
    "    featuresCol=\"features\",\n",
    "    maxDepth=4,\n",
    "    numTrees=5)\n",
    "start_time = time.time()\n",
    "model = rf.fit(train)\n",
    "exec_time = time.time() - start_time\n",
    "start_time = time.time()\n",
    "print ('train time: ', exec_time)\n",
    "predictions=model.transform(test)\n",
    "exec_time = time.time() - start_time\n",
    "print ('test time: ', exec_time)\n",
    "#1 ядро, 2 исполнителя фул сет"
   ]
  },
  {
   "cell_type": "code",
   "execution_count": 754,
   "id": "bc01e9ca",
   "metadata": {
    "cellId": "wyzyrfer7ppc3zzimb1"
   },
   "outputs": [
    {
     "name": "stdout",
     "output_type": "stream",
     "text": [
      "4\n",
      "2\n"
     ]
    }
   ],
   "source": [
    "#!spark --session gr0371-sk6\n",
    "conf=sc.getConf()\n",
    "cores=conf.get(\"spark.executor.cores\")\n",
    "conf.set('spark.executor.cores', 4)\n",
    "cores=conf.get(\"spark.executor.cores\")\n",
    "print(cores)\n",
    "instances=conf.get(\"spark.executor.instances\")\n",
    "print(instances)"
   ]
  },
  {
   "cell_type": "code",
   "execution_count": 755,
   "id": "4801a7da",
   "metadata": {
    "cellId": "p5i0f03gsagoa3qq0yixro"
   },
   "outputs": [
    {
     "name": "stdout",
     "output_type": "stream",
     "text": [
      "\n"
     ]
    }
   ],
   "source": [
    "#!spark --session gr0371-sk6\n",
    "df10 = df.sample(False, 1/10)"
   ]
  },
  {
   "cell_type": "code",
   "execution_count": 756,
   "id": "683bf6af",
   "metadata": {
    "cellId": "rk5g19vf2p9gf4wvq6vy8"
   },
   "outputs": [
    {
     "name": "stdout",
     "output_type": "stream",
     "text": [
      "train time:  794.6408724784851\n",
      "test time:  0.2120518684387207\n"
     ]
    }
   ],
   "source": [
    "#!spark --session gr0371-sk6\n",
    "from pyspark.ml.feature import VectorAssembler\n",
    "from pyspark.ml.classification import RandomForestClassifier\n",
    "\n",
    "\n",
    "cols = df10.columns\n",
    "cols.remove('label')\n",
    "va = VectorAssembler(\n",
    "    inputCols=cols,\n",
    "    outputCol=\"features\"\n",
    ").transform(df10)\n",
    "train, test = va.randomSplit([0.7, 0.3])\n",
    "\n",
    "rf = RandomForestClassifier(\n",
    "    labelCol=\"label\", \n",
    "    featuresCol=\"features\",\n",
    "    maxDepth=4,\n",
    "    numTrees=5)\n",
    "start_time = time.time()\n",
    "model = rf.fit(train)\n",
    "exec_time = time.time() - start_time\n",
    "start_time = time.time()\n",
    "print ('train time: ', exec_time)\n",
    "predictions=model.transform(test)\n",
    "exec_time = time.time() - start_time\n",
    "print ('test time: ', exec_time)\n",
    "#4 ядра, 2 исполнителя, 10% сета"
   ]
  },
  {
   "cell_type": "code",
   "execution_count": 757,
   "id": "996cf1b5",
   "metadata": {
    "cellId": "1babj9d9ddhru5ek2e8ggb"
   },
   "outputs": [
    {
     "name": "stdout",
     "output_type": "stream",
     "text": [
      "Accuracy is: 0.9903853549726944\n",
      "Precision is: 0.9897186853105249\n",
      "Recall is: 0.989895490501761\n"
     ]
    }
   ],
   "source": [
    "#!spark --session gr0371-sk6\n",
    "from pyspark.ml.evaluation import MulticlassClassificationEvaluator\n",
    "evaluator = MulticlassClassificationEvaluator(labelCol=\"label\", predictionCol=\"prediction\")\n",
    "accuracy = evaluator.evaluate(predictions, {evaluator.metricName: \"accuracy\"})\n",
    "print(('Accuracy is: %s') % accuracy)\n",
    "precision = evaluator.evaluate(predictions, {evaluator.metricName: \"weightedPrecision\"})\n",
    "print(('Precision is: %s') % precision)\n",
    "recall = evaluator.evaluate(predictions, {evaluator.metricName: \"weightedRecall\"})\n",
    "print(('Recall is: %s') % recall)"
   ]
  },
  {
   "cell_type": "code",
   "execution_count": 758,
   "id": "d144ce11",
   "metadata": {
    "cellId": "u8um36r5shaezclbrjh"
   },
   "outputs": [
    {
     "name": "stdout",
     "output_type": "stream",
     "text": [
      "\n"
     ]
    }
   ],
   "source": [
    "#!spark --session gr0371-sk6\n",
    "df25 = df.sample(False, 1/4)"
   ]
  },
  {
   "cell_type": "code",
   "execution_count": 759,
   "id": "00ab0849",
   "metadata": {
    "cellId": "0pjximevijr9b8rvwjeqrn8"
   },
   "outputs": [
    {
     "name": "stdout",
     "output_type": "stream",
     "text": [
      "train time:  814.4897110462189\n",
      "test time:  0.2268693447113037\n"
     ]
    }
   ],
   "source": [
    "#!spark --session gr0371-sk6\n",
    "from pyspark.ml.feature import VectorAssembler\n",
    "from pyspark.ml.classification import RandomForestClassifier\n",
    "\n",
    "\n",
    "cols = df25.columns\n",
    "cols.remove('label')\n",
    "va = VectorAssembler(\n",
    "    inputCols=cols,\n",
    "    outputCol=\"features\"\n",
    ").transform(df25)\n",
    "train, test = va.randomSplit([0.7, 0.3])\n",
    "\n",
    "rf = RandomForestClassifier(\n",
    "    labelCol=\"label\", \n",
    "    featuresCol=\"features\",\n",
    "    maxDepth=4,\n",
    "    numTrees=5)\n",
    "start_time = time.time()\n",
    "model = rf.fit(train)\n",
    "exec_time = time.time() - start_time\n",
    "start_time = time.time()\n",
    "print ('train time: ', exec_time)\n",
    "predictions=model.transform(test)\n",
    "exec_time = time.time() - start_time\n",
    "print ('test time: ', exec_time)\n",
    "#4 ядра, 2 исполнителя 25% сета"
   ]
  },
  {
   "cell_type": "code",
   "execution_count": 760,
   "id": "e95acfbb",
   "metadata": {
    "cellId": "w424fbfs22dyzldan0jpe"
   },
   "outputs": [
    {
     "name": "stdout",
     "output_type": "stream",
     "text": [
      "Accuracy is: 0.9907516046656084\n",
      "Precision is: 0.9903291263807605\n",
      "Recall is: 0.990528154982681\n"
     ]
    }
   ],
   "source": [
    "#!spark --session gr0371-sk6\n",
    "from pyspark.ml.evaluation import MulticlassClassificationEvaluator\n",
    "evaluator = MulticlassClassificationEvaluator(labelCol=\"label\", predictionCol=\"prediction\")\n",
    "accuracy = evaluator.evaluate(predictions, {evaluator.metricName: \"accuracy\"})\n",
    "print(('Accuracy is: %s') % accuracy)\n",
    "precision = evaluator.evaluate(predictions, {evaluator.metricName: \"weightedPrecision\"})\n",
    "print(('Precision is: %s') % precision)\n",
    "recall = evaluator.evaluate(predictions, {evaluator.metricName: \"weightedRecall\"})\n",
    "print(('Recall is: %s') % recall)"
   ]
  },
  {
   "cell_type": "code",
   "execution_count": 809,
   "id": "44f3e49f",
   "metadata": {
    "cellId": "35mhl5ontmrpwhofln64es"
   },
   "outputs": [
    {
     "name": "stdout",
     "output_type": "stream",
     "text": [
      "\n"
     ]
    }
   ],
   "source": [
    "#!spark --session gr0371-sk6\n",
    "df75 = df.sample(False, 3/4)"
   ]
  },
  {
   "cell_type": "code",
   "execution_count": 762,
   "id": "354645f0",
   "metadata": {
    "cellId": "xl2wdswiycimk3e9ixlq"
   },
   "outputs": [
    {
     "name": "stdout",
     "output_type": "stream",
     "text": [
      "train time:  815.7221870422363\n",
      "test time:  0.19526124000549316\n"
     ]
    }
   ],
   "source": [
    "#!spark --session gr0371-sk6\n",
    "from pyspark.ml.feature import VectorAssembler\n",
    "from pyspark.ml.classification import RandomForestClassifier\n",
    "\n",
    "\n",
    "cols = df75.columns\n",
    "cols.remove('label')\n",
    "va = VectorAssembler(\n",
    "    inputCols=cols,\n",
    "    outputCol=\"features\"\n",
    ").transform(df75)\n",
    "train, test = va.randomSplit([0.7, 0.3])\n",
    "\n",
    "rf = RandomForestClassifier(\n",
    "    labelCol=\"label\", \n",
    "    featuresCol=\"features\",\n",
    "    maxDepth=4,\n",
    "    numTrees=5)\n",
    "start_time = time.time()\n",
    "model = rf.fit(train)\n",
    "exec_time = time.time() - start_time\n",
    "start_time = time.time()\n",
    "print ('train time: ', exec_time)\n",
    "predictions=model.transform(test)\n",
    "exec_time = time.time() - start_time\n",
    "print ('test time: ', exec_time)\n",
    "#4 ядра, 2 исполнителя 75% сета"
   ]
  },
  {
   "cell_type": "code",
   "execution_count": 763,
   "id": "c601af59",
   "metadata": {
    "cellId": "ty5x5268kyi4t9md9v76p"
   },
   "outputs": [
    {
     "name": "stdout",
     "output_type": "stream",
     "text": [
      "Accuracy is: 0.9991884613021484\n",
      "Precision is: 0.9992294772572617\n",
      "Recall is: 0.9991581350003454\n"
     ]
    }
   ],
   "source": [
    "#!spark --session gr0371-sk6\n",
    "from pyspark.ml.evaluation import MulticlassClassificationEvaluator\n",
    "evaluator = MulticlassClassificationEvaluator(labelCol=\"label\", predictionCol=\"prediction\")\n",
    "accuracy = evaluator.evaluate(predictions, {evaluator.metricName: \"accuracy\"})\n",
    "print(('Accuracy is: %s') % accuracy)\n",
    "precision = evaluator.evaluate(predictions, {evaluator.metricName: \"weightedPrecision\"})\n",
    "print(('Precision is: %s') % precision)\n",
    "recall = evaluator.evaluate(predictions, {evaluator.metricName: \"weightedRecall\"})\n",
    "print(('Recall is: %s') % recall)"
   ]
  },
  {
   "cell_type": "code",
   "execution_count": 810,
   "id": "8d2a1dee",
   "metadata": {
    "cellId": "qizlw5zag489g0xan5ybdc"
   },
   "outputs": [
    {
     "name": "stdout",
     "output_type": "stream",
     "text": [
      "2\n",
      "2\n"
     ]
    }
   ],
   "source": [
    "#!spark --session gr0371-sk6\n",
    "conf=sc.getConf()\n",
    "cores=conf.get(\"spark.executor.cores\")\n",
    "conf.set('spark.executor.cores', 2)\n",
    "cores=conf.get(\"spark.executor.cores\")\n",
    "print(cores)\n",
    "instances=conf.get(\"spark.executor.instances\")\n",
    "print(instances)"
   ]
  },
  {
   "cell_type": "code",
   "execution_count": 765,
   "id": "5675d6c8",
   "metadata": {
    "cellId": "5v0ozhjz64wjcbq64v7c1"
   },
   "outputs": [
    {
     "name": "stdout",
     "output_type": "stream",
     "text": [
      "train time:  796.4584267139435\n",
      "test time:  0.2350749969482422\n"
     ]
    }
   ],
   "source": [
    "#!spark --session gr0371-sk6\n",
    "from pyspark.ml.feature import VectorAssembler\n",
    "from pyspark.ml.classification import RandomForestClassifier\n",
    "\n",
    "\n",
    "cols = df10.columns\n",
    "cols.remove('label')\n",
    "va = VectorAssembler(\n",
    "    inputCols=cols,\n",
    "    outputCol=\"features\"\n",
    ").transform(df10)\n",
    "train, test = va.randomSplit([0.7, 0.3])\n",
    "\n",
    "rf = RandomForestClassifier(\n",
    "    labelCol=\"label\", \n",
    "    featuresCol=\"features\",\n",
    "    maxDepth=4,\n",
    "    numTrees=5)\n",
    "start_time = time.time()\n",
    "model = rf.fit(train)\n",
    "exec_time = time.time() - start_time\n",
    "start_time = time.time()\n",
    "print ('train time: ', exec_time)\n",
    "predictions=model.transform(test)\n",
    "exec_time = time.time() - start_time\n",
    "print ('test time: ', exec_time)\n",
    "#2 ядра, 2 исполнителя 10% сета"
   ]
  },
  {
   "cell_type": "code",
   "execution_count": 766,
   "id": "9955eef9",
   "metadata": {
    "cellId": "r5aed51i2rf6fj8r2ra3c"
   },
   "outputs": [
    {
     "name": "stdout",
     "output_type": "stream",
     "text": [
      "train time:  819.0410170555115\n",
      "test time:  0.22524023056030273\n"
     ]
    }
   ],
   "source": [
    "#!spark --session gr0371-sk6\n",
    "from pyspark.ml.feature import VectorAssembler\n",
    "from pyspark.ml.classification import RandomForestClassifier\n",
    "\n",
    "\n",
    "cols = df25.columns\n",
    "cols.remove('label')\n",
    "va = VectorAssembler(\n",
    "    inputCols=cols,\n",
    "    outputCol=\"features\"\n",
    ").transform(df25)\n",
    "train, test = va.randomSplit([0.7, 0.3])\n",
    "\n",
    "rf = RandomForestClassifier(\n",
    "    labelCol=\"label\", \n",
    "    featuresCol=\"features\",\n",
    "    maxDepth=4,\n",
    "    numTrees=5)\n",
    "start_time = time.time()\n",
    "model = rf.fit(train)\n",
    "exec_time = time.time() - start_time\n",
    "start_time = time.time()\n",
    "print ('train time: ', exec_time)\n",
    "predictions=model.transform(test)\n",
    "exec_time = time.time() - start_time\n",
    "print ('test time: ', exec_time)\n",
    "#2 ядра, 2 исполнителя 25% сета"
   ]
  },
  {
   "cell_type": "code",
   "execution_count": 767,
   "id": "b725d6e7",
   "metadata": {
    "cellId": "knil831dgcngl1h6xbg7ud"
   },
   "outputs": [
    {
     "name": "stdout",
     "output_type": "stream",
     "text": [
      "train time:  823.6903290748596\n",
      "test time:  0.23971009254455566\n"
     ]
    }
   ],
   "source": [
    "#!spark --session gr0371-sk6\n",
    "from pyspark.ml.feature import VectorAssembler\n",
    "from pyspark.ml.classification import RandomForestClassifier\n",
    "\n",
    "\n",
    "cols = df50.columns\n",
    "cols.remove('label')\n",
    "va = VectorAssembler(\n",
    "    inputCols=cols,\n",
    "    outputCol=\"features\"\n",
    ").transform(df50)\n",
    "train, test = va.randomSplit([0.7, 0.3])\n",
    "\n",
    "rf = RandomForestClassifier(\n",
    "    labelCol=\"label\", \n",
    "    featuresCol=\"features\",\n",
    "    maxDepth=4,\n",
    "    numTrees=5)\n",
    "start_time = time.time()\n",
    "model = rf.fit(train)\n",
    "exec_time = time.time() - start_time\n",
    "start_time = time.time()\n",
    "print ('train time: ', exec_time)\n",
    "predictions=model.transform(test)\n",
    "exec_time = time.time() - start_time\n",
    "print ('test time: ', exec_time)\n",
    "#2 ядра, 2 исполнителя 50% сета"
   ]
  },
  {
   "cell_type": "code",
   "execution_count": 768,
   "id": "7f98ba07",
   "metadata": {
    "cellId": "6ghtxirm719fisbm9ytyn5"
   },
   "outputs": [
    {
     "name": "stdout",
     "output_type": "stream",
     "text": [
      "1\n",
      "2\n"
     ]
    }
   ],
   "source": [
    "#!spark --session gr0371-sk6\n",
    "conf=sc.getConf()\n",
    "cores=conf.get(\"spark.executor.cores\")\n",
    "conf.set('spark.executor.cores', 1)\n",
    "cores=conf.get(\"spark.executor.cores\")\n",
    "print(cores)\n",
    "instances=conf.get(\"spark.executor.instances\")\n",
    "print(instances)"
   ]
  },
  {
   "cell_type": "code",
   "execution_count": 769,
   "id": "8afed718",
   "metadata": {
    "cellId": "2l0c0vsru543scc8kgykwx"
   },
   "outputs": [
    {
     "name": "stdout",
     "output_type": "stream",
     "text": [
      "train time:  850.3790123462677\n",
      "test time:  0.21196293830871582\n"
     ]
    }
   ],
   "source": [
    "#!spark --session gr0371-sk6\n",
    "from pyspark.ml.feature import VectorAssembler\n",
    "from pyspark.ml.classification import RandomForestClassifier\n",
    "\n",
    "\n",
    "cols = df50.columns\n",
    "cols.remove('label')\n",
    "va = VectorAssembler(\n",
    "    inputCols=cols,\n",
    "    outputCol=\"features\"\n",
    ").transform(df50)\n",
    "train, test = va.randomSplit([0.7, 0.3])\n",
    "\n",
    "rf = RandomForestClassifier(\n",
    "    labelCol=\"label\", \n",
    "    featuresCol=\"features\",\n",
    "    maxDepth=4,\n",
    "    numTrees=5)\n",
    "start_time = time.time()\n",
    "model = rf.fit(train)\n",
    "exec_time = time.time() - start_time\n",
    "start_time = time.time()\n",
    "print ('train time: ', exec_time)\n",
    "predictions=model.transform(test)\n",
    "exec_time = time.time() - start_time\n",
    "print ('test time: ', exec_time)\n",
    "#1 ядра, 2 исполнителя 50% сета"
   ]
  },
  {
   "cell_type": "code",
   "execution_count": 770,
   "id": "e1c982ce",
   "metadata": {
    "cellId": "zzdwglw4vemx3mzo5pa3b",
    "collapsed": true
   },
   "outputs": [
    {
     "name": "stdout",
     "output_type": "stream",
     "text": [
      "train time:  814.3326334953308\n",
      "test time:  0.2468557357788086\n"
     ]
    }
   ],
   "source": [
    "#!spark --session gr0371-sk6\n",
    "from pyspark.ml.feature import VectorAssembler\n",
    "from pyspark.ml.classification import RandomForestClassifier\n",
    "\n",
    "\n",
    "cols = df25.columns\n",
    "cols.remove('label')\n",
    "va = VectorAssembler(\n",
    "    inputCols=cols,\n",
    "    outputCol=\"features\"\n",
    ").transform(df25)\n",
    "train, test = va.randomSplit([0.7, 0.3])\n",
    "\n",
    "rf = RandomForestClassifier(\n",
    "    labelCol=\"label\", \n",
    "    featuresCol=\"features\",\n",
    "    maxDepth=4,\n",
    "    numTrees=5)\n",
    "start_time = time.time()\n",
    "model = rf.fit(train)\n",
    "exec_time = time.time() - start_time\n",
    "start_time = time.time()\n",
    "print ('train time: ', exec_time)\n",
    "predictions=model.transform(test)\n",
    "exec_time = time.time() - start_time\n",
    "print ('test time: ', exec_time)\n",
    "#1 ядра, 2 исполнителя 25% сета"
   ]
  },
  {
   "cell_type": "code",
   "execution_count": 771,
   "id": "74f9f4ab",
   "metadata": {
    "cellId": "ceai06guixwu0b5njvy7q",
    "collapsed": true
   },
   "outputs": [
    {
     "name": "stdout",
     "output_type": "stream",
     "text": [
      "train time:  805.6134021282196\n",
      "test time:  0.22206807136535645\n"
     ]
    }
   ],
   "source": [
    "#!spark --session gr0371-sk6\n",
    "from pyspark.ml.feature import VectorAssembler\n",
    "from pyspark.ml.classification import RandomForestClassifier\n",
    "\n",
    "\n",
    "cols = df10.columns\n",
    "cols.remove('label')\n",
    "va = VectorAssembler(\n",
    "    inputCols=cols,\n",
    "    outputCol=\"features\"\n",
    ").transform(df10)\n",
    "train, test = va.randomSplit([0.7, 0.3])\n",
    "\n",
    "rf = RandomForestClassifier(\n",
    "    labelCol=\"label\", \n",
    "    featuresCol=\"features\",\n",
    "    maxDepth=4,\n",
    "    numTrees=5)\n",
    "start_time = time.time()\n",
    "model = rf.fit(train)\n",
    "exec_time = time.time() - start_time\n",
    "start_time = time.time()\n",
    "print ('train time: ', exec_time)\n",
    "predictions=model.transform(test)\n",
    "exec_time = time.time() - start_time\n",
    "print ('test time: ', exec_time)\n",
    "#1 ядра, 2 исполнителя 10% сета"
   ]
  },
  {
   "cell_type": "code",
   "execution_count": 798,
   "id": "372121eb",
   "metadata": {
    "cellId": "qsiqt4u0hrm61bdolpz2"
   },
   "outputs": [
    {
     "data": {
      "image/png": "[encoded data removed]",
      "text/plain": [
       "<Figure size 432x288 with 1 Axes>"
      ]
     },
     "metadata": {
      "needs_background": "light"
     },
     "output_type": "display_data"
    }
   ],
   "source": [
    "from matplotlib import pyplot as plt\n",
    "import numpy as np\n",
    "\n",
    "groups=['1 cor', '2 cor', '4 cor']\n",
    "counts=[835.3313972949982, 856.9662630558014, 991.8551964759827]\n",
    "plt.title('Время')\n",
    "plt.bar(groups, counts)\n",
    " \n",
    "# Показываем диаграмму\n",
    "plt.show()"
   ]
  },
  {
   "cell_type": "code",
   "execution_count": 790,
   "id": "8650ad5d",
   "metadata": {
    "cellId": "0bc79x6q310ag2ldkiuragg"
   },
   "outputs": [
    {
     "data": {
      "image/png": "[encoded data removed]",
      "text/plain": [
       "<Figure size 432x288 with 1 Axes>"
      ]
     },
     "metadata": {
      "needs_background": "light"
     },
     "output_type": "display_data"
    }
   ],
   "source": [
    "from matplotlib import pyplot as plt\n",
    "import numpy as np\n",
    "\n",
    "index = np.arange(5)\n",
    "values1 = [0.9903853549726944, 0.9907516046656084, 0.9796761375839956, 0.9991884613021484, 0.9914646879534444]\n",
    "values2 = [0.9897186853105249, 0.9903291263807605, 0.9806835230997712, 0.9992294772572617, 0.9913015549889204]\n",
    "values3 = [0.989895490501761, 0.990528154982681, 0.9798257961331498, 0.9991581350003454, 0.9910830641554916]\n",
    "bw = 0.3\n",
    "plt.axis([-0.5, 5,0.9,1])\n",
    "plt.title('Метрики', fontsize=20)\n",
    "plt.bar(index, values1, bw, color='b')\n",
    "plt.bar(index+bw, values2, bw, color='g')\n",
    "plt.bar(index+2*bw, values3, bw, color='r')\n",
    "plt.xticks(index+1.5*bw,['10%', '25%', '50%', '75%', '100%'])\n",
    "plt.show()"
   ]
  },
  {
   "cell_type": "code",
   "execution_count": 791,
   "id": "4d5ba61f",
   "metadata": {
    "cellId": "tfwkzmpeuuanf47u1c2bc"
   },
   "outputs": [
    {
     "data": {
      "image/png": "[encoded data removed]",
      "text/plain": [
       "<Figure size 432x288 with 1 Axes>"
      ]
     },
     "metadata": {
      "needs_background": "light"
     },
     "output_type": "display_data"
    }
   ],
   "source": [
    "from matplotlib import pyplot as plt\n",
    "import numpy as np\n",
    "\n",
    "groups=['10%', '25%', '50%', '75%', '100%']\n",
    "counts=[794.6408724784851, 815.7221870422363, 1007.9103033542633, 815.7221870422363, 991.8551964759827]\n",
    "plt.title('Время')\n",
    "plt.bar(groups, counts)\n",
    " \n",
    "# Показываем диаграмму\n",
    "plt.show()"
   ]
  },
  {
   "cell_type": "code",
   "execution_count": 816,
   "id": "baa15e84",
   "metadata": {
    "cellId": "rurth98qeap9lwnrmbqs"
   },
   "outputs": [
    {
     "data": {
      "image/png": "[encoded data removed]",
      "text/plain": [
       "<Figure size 432x288 with 1 Axes>"
      ]
     },
     "metadata": {
      "needs_background": "light"
     },
     "output_type": "display_data"
    }
   ],
   "source": [
    "from matplotlib import pyplot as plt\n",
    "import numpy as np\n",
    "\n",
    "index = np.arange(5)\n",
    "values1 = [805.6134021282196, 814.3326334953308, 850.3790123462677, 846.6087341308594, 835.3313972949982]\n",
    "values2 = [796.4584267139435, 819.0410170555115, 823.6903290748596, 846.8520781993866, 856.9662630558014]\n",
    "values3 = [794.6408724784851, 814.4897110462189, 1007.9103033542633, 815.7221870422363, 991.8551964759827]\n",
    "bw = 0.3\n",
    "plt.axis([-0.5, 5,0,1100])\n",
    "plt.title('Время по ядрам и объему данных', fontsize=20)\n",
    "plt.bar(index, values1, bw, color='b')\n",
    "plt.bar(index+bw, values2, bw, color='g')\n",
    "plt.bar(index+2*bw, values3, bw, color='r')\n",
    "plt.xticks(index+1.5*bw,['10%', '25%', '50%', '75%', '100%'])\n",
    "plt.show()"
   ]
  },
  {
   "cell_type": "code",
   "execution_count": 812,
   "id": "977206bc",
   "metadata": {
    "cellId": "t1drs54i2lejwotgqq0px"
   },
   "outputs": [
    {
     "name": "stdout",
     "output_type": "stream",
     "text": [
      "train time:  846.8520781993866\n",
      "test time:  0.25186896324157715\n"
     ]
    }
   ],
   "source": [
    "#!spark --session gr0371-sk6\n",
    "from pyspark.ml.feature import VectorAssembler\n",
    "from pyspark.ml.classification import RandomForestClassifier\n",
    "import time\n",
    "\n",
    "cols = df75.columns\n",
    "cols.remove('label')\n",
    "va = VectorAssembler(\n",
    "    inputCols=cols,\n",
    "    outputCol=\"features\"\n",
    ").transform(df75)\n",
    "train, test = va.randomSplit([0.7, 0.3])\n",
    "\n",
    "rf = RandomForestClassifier(\n",
    "    labelCol=\"label\", \n",
    "    featuresCol=\"features\",\n",
    "    maxDepth=4,\n",
    "    numTrees=5)\n",
    "start_time = time.time()\n",
    "model = rf.fit(train)\n",
    "exec_time = time.time() - start_time\n",
    "start_time = time.time()\n",
    "print ('train time: ', exec_time)\n",
    "predictions=model.transform(test)\n",
    "exec_time = time.time() - start_time\n",
    "print ('test time: ', exec_time)\n",
    "#2 ядра, 2 исполнителя 75% сета"
   ]
  },
  {
   "cell_type": "code",
   "execution_count": 813,
   "id": "06b6322a",
   "metadata": {
    "cellId": "l732rpqmvnfk333jy2psa"
   },
   "outputs": [
    {
     "name": "stdout",
     "output_type": "stream",
     "text": [
      "1\n",
      "2\n"
     ]
    }
   ],
   "source": [
    "#!spark --session gr0371-sk6\n",
    "conf=sc.getConf()\n",
    "cores=conf.get(\"spark.executor.cores\")\n",
    "conf.set('spark.executor.cores', 1)\n",
    "cores=conf.get(\"spark.executor.cores\")\n",
    "print(cores)\n",
    "instances=conf.get(\"spark.executor.instances\")\n",
    "print(instances)"
   ]
  },
  {
   "cell_type": "code",
   "execution_count": 814,
   "id": "1683025b",
   "metadata": {
    "cellId": "ru8ug5t3ax5evrsz9ew"
   },
   "outputs": [
    {
     "name": "stdout",
     "output_type": "stream",
     "text": [
      "train time:  846.6087341308594\n",
      "test time:  0.2531299591064453\n"
     ]
    }
   ],
   "source": [
    "#!spark --session gr0371-sk6\n",
    "\n",
    "cols = df75.columns\n",
    "cols.remove('label')\n",
    "va = VectorAssembler(\n",
    "    inputCols=cols,\n",
    "    outputCol=\"features\"\n",
    ").transform(df75)\n",
    "train, test = va.randomSplit([0.7, 0.3])\n",
    "\n",
    "rf = RandomForestClassifier(\n",
    "    labelCol=\"label\", \n",
    "    featuresCol=\"features\",\n",
    "    maxDepth=4,\n",
    "    numTrees=5)\n",
    "start_time = time.time()\n",
    "model = rf.fit(train)\n",
    "exec_time = time.time() - start_time\n",
    "start_time = time.time()\n",
    "print ('train time: ', exec_time)\n",
    "predictions=model.transform(test)\n",
    "exec_time = time.time() - start_time\n",
    "print ('test time: ', exec_time)\n",
    "#1 ядра, 2 исполнителя 75% сета"
   ]
  },
  {
   "cell_type": "code",
   "execution_count": null,
   "id": "1cbf3c42",
   "metadata": {
    "cellId": "54qwi2wkecdygevfyt4no"
   },
   "outputs": [],
   "source": []
  }
 ],
 "metadata": {
  "kernelspec": {
   "display_name": "Python 3 (ipykernel)",
   "language": "python",
   "name": "python3"
  },
  "language_info": {
   "codemirror_mode": {
    "name": "ipython",
    "version": 3
   },
   "file_extension": ".py",
   "mimetype": "text/x-python",
   "name": "python",
   "nbconvert_exporter": "python",
   "pygments_lexer": "ipython3",
   "version": "3.9.13"
  },
  "notebookId": "a4e607aa-5d53-416a-8055-71acba6e66ee",
  "notebookPath": "Untitled.ipynb"
 },
 "nbformat": 4,
 "nbformat_minor": 5
}
